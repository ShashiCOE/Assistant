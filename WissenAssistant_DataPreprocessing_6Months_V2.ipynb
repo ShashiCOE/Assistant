{
 "cells": [
  {
   "cell_type": "code",
   "execution_count": 1,
   "metadata": {},
   "outputs": [
    {
     "name": "stderr",
     "output_type": "stream",
     "text": [
      "c:\\Users\\aiwinuser\\Documents\\WissenAssistant\\PyWissenAssistant\\lib\\site-packages\\tqdm\\auto.py:21: TqdmWarning: IProgress not found. Please update jupyter and ipywidgets. See https://ipywidgets.readthedocs.io/en/stable/user_install.html\n",
      "  from .autonotebook import tqdm as notebook_tqdm\n"
     ]
    }
   ],
   "source": [
    "import numpy as np\n",
    "import pandas as pd\n",
    "\n",
    "from sklearn import preprocessing\n",
    "from sklearn.model_selection import train_test_split\n",
    "\n",
    "from datasets import Dataset\n",
    "\n",
    "import torch\n",
    "from torch import nn\n",
    "import transformers\n",
    "from transformers import AutoTokenizer\n",
    "\n",
    "\n",
    "from tqdm import tqdm\n",
    "from datetime import datetime"
   ]
  },
  {
   "cell_type": "markdown",
   "metadata": {},
   "source": []
  },
  {
   "cell_type": "code",
   "execution_count": 4,
   "metadata": {},
   "outputs": [],
   "source": [
    "from IPython.display import display\n",
    "\n",
    "pd.options.display.max_columns = None"
   ]
  },
  {
   "cell_type": "code",
   "execution_count": 2,
   "metadata": {},
   "outputs": [],
   "source": [
    "Data_Raw_Wissen_1 = pd.read_excel('../Data/One_Year_Ticket_Report_2024.xlsx', sheet_name='Raw_Data(ITOP & Helpdesk)')\n",
    "Data_Raw_Wissen_2 = pd.read_csv('../Data/Tickets_CSV_Report2024_12_06_54_05.csv')"
   ]
  },
  {
   "cell_type": "code",
   "execution_count": 5,
   "metadata": {},
   "outputs": [
    {
     "data": {
      "text/html": [
       "<div>\n",
       "<style scoped>\n",
       "    .dataframe tbody tr th:only-of-type {\n",
       "        vertical-align: middle;\n",
       "    }\n",
       "\n",
       "    .dataframe tbody tr th {\n",
       "        vertical-align: top;\n",
       "    }\n",
       "\n",
       "    .dataframe thead th {\n",
       "        text-align: right;\n",
       "    }\n",
       "</style>\n",
       "<table border=\"1\" class=\"dataframe\">\n",
       "  <thead>\n",
       "    <tr style=\"text-align: right;\">\n",
       "      <th></th>\n",
       "      <th>ID</th>\n",
       "      <th>Issue</th>\n",
       "      <th>Service</th>\n",
       "      <th>Service Sub Category</th>\n",
       "      <th>Impact</th>\n",
       "      <th>Urgency</th>\n",
       "      <th>Description</th>\n",
       "      <th>Ticket Sub Class</th>\n",
       "      <th>Status</th>\n",
       "      <th>Created By</th>\n",
       "      <th>TTO Deadline</th>\n",
       "      <th>Assigned To</th>\n",
       "      <th>Caller Name</th>\n",
       "      <th>Responsible Team</th>\n",
       "      <th>Location Value</th>\n",
       "      <th>Root Cause</th>\n",
       "      <th>Action Taken</th>\n",
       "      <th>Feeedback</th>\n",
       "      <th>Ratings</th>\n",
       "      <th>Request Type</th>\n",
       "      <th>Assigned Date</th>\n",
       "      <th>Resolved Date</th>\n",
       "      <th>Closed Date</th>\n",
       "      <th>Comments</th>\n",
       "      <th>Re-Assign To</th>\n",
       "      <th>Month</th>\n",
       "      <th>Color Tag</th>\n",
       "      <th>Modified By</th>\n",
       "      <th>Created Date</th>\n",
       "      <th>Modified Date</th>\n",
       "      <th>Re-Assigned Time</th>\n",
       "      <th>Total Resolution Time</th>\n",
       "      <th>Re-Assigned Resolution Time</th>\n",
       "      <th>Ticket Open Time</th>\n",
       "    </tr>\n",
       "  </thead>\n",
       "  <tbody>\n",
       "    <tr>\n",
       "      <th>0</th>\n",
       "      <td>361</td>\n",
       "      <td>Laptop for 7671</td>\n",
       "      <td>Computer Hardware</td>\n",
       "      <td>New Hardware Request</td>\n",
       "      <td>A person</td>\n",
       "      <td>Critical</td>\n",
       "      <td>make a laptop ready for new joinee.</td>\n",
       "      <td>NaN</td>\n",
       "      <td>Assigned</td>\n",
       "      <td>Ravipati Ranga Dhama Reddy</td>\n",
       "      <td>NaN</td>\n",
       "      <td>Sivabharathi Dudekula</td>\n",
       "      <td>Sivabharathi Dudekula</td>\n",
       "      <td>IT IS Support</td>\n",
       "      <td>Bangalore</td>\n",
       "      <td>laptop Make ready</td>\n",
       "      <td>Laptop was ready with all the os booted and th...</td>\n",
       "      <td>NaN</td>\n",
       "      <td>NaN</td>\n",
       "      <td>Service</td>\n",
       "      <td>5/15/2024 10:33 PM</td>\n",
       "      <td>1/12/2024 12:33 PM</td>\n",
       "      <td>NaN</td>\n",
       "      <td>NaN</td>\n",
       "      <td>sivabharathi.dudekula@wisseninfotech.com</td>\n",
       "      <td>NaN</td>\n",
       "      <td>NaN</td>\n",
       "      <td>Mrdhul Kumar</td>\n",
       "      <td>18/08/2023, 08:34:02</td>\n",
       "      <td>15/05/2024, 17:03:10</td>\n",
       "      <td>NaN</td>\n",
       "      <td>NaN</td>\n",
       "      <td>NaN</td>\n",
       "      <td>NaN</td>\n",
       "    </tr>\n",
       "    <tr>\n",
       "      <th>1</th>\n",
       "      <td>364</td>\n",
       "      <td>Software Installation</td>\n",
       "      <td>Software</td>\n",
       "      <td>MS Office</td>\n",
       "      <td>A person</td>\n",
       "      <td>Critical</td>\n",
       "      <td>Software Installation</td>\n",
       "      <td>NaN</td>\n",
       "      <td>Resolved</td>\n",
       "      <td>Meghana Dharmaraj</td>\n",
       "      <td>NaN</td>\n",
       "      <td>Mahendar Battula</td>\n",
       "      <td>Meghana Dharmaraj</td>\n",
       "      <td>IT IS Support</td>\n",
       "      <td>Bangalore</td>\n",
       "      <td>installed required software</td>\n",
       "      <td>installed required software</td>\n",
       "      <td>NaN</td>\n",
       "      <td>NaN</td>\n",
       "      <td>Service</td>\n",
       "      <td>8/18/2023 5:48 PM</td>\n",
       "      <td>8/18/2023 6:53 PM</td>\n",
       "      <td>NaN</td>\n",
       "      <td>NaN</td>\n",
       "      <td>NaN</td>\n",
       "      <td>NaN</td>\n",
       "      <td>NaN</td>\n",
       "      <td>Raksha Roshni</td>\n",
       "      <td>18/08/2023, 12:15:45</td>\n",
       "      <td>22/05/2024, 13:33:21</td>\n",
       "      <td>NaN</td>\n",
       "      <td>NaN</td>\n",
       "      <td>NaN</td>\n",
       "      <td>NaN</td>\n",
       "    </tr>\n",
       "    <tr>\n",
       "      <th>2</th>\n",
       "      <td>365</td>\n",
       "      <td>Software Installation</td>\n",
       "      <td>Software</td>\n",
       "      <td>MS Office</td>\n",
       "      <td>A person</td>\n",
       "      <td>Critical</td>\n",
       "      <td>Software Installation</td>\n",
       "      <td>NaN</td>\n",
       "      <td>Resolved</td>\n",
       "      <td>Meghana Dharmaraj</td>\n",
       "      <td>NaN</td>\n",
       "      <td>Mahendar Battula</td>\n",
       "      <td>Meghana Dharmaraj</td>\n",
       "      <td>IT IS Support</td>\n",
       "      <td>Bangalore</td>\n",
       "      <td>installed required software</td>\n",
       "      <td>installed required software</td>\n",
       "      <td>NaN</td>\n",
       "      <td>NaN</td>\n",
       "      <td>Service</td>\n",
       "      <td>8/18/2023 5:48 PM</td>\n",
       "      <td>8/18/2023 6:53 PM</td>\n",
       "      <td>NaN</td>\n",
       "      <td>NaN</td>\n",
       "      <td>NaN</td>\n",
       "      <td>NaN</td>\n",
       "      <td>NaN</td>\n",
       "      <td>Raksha Roshni</td>\n",
       "      <td>18/08/2023, 12:17:13</td>\n",
       "      <td>22/05/2024, 13:33:21</td>\n",
       "      <td>NaN</td>\n",
       "      <td>NaN</td>\n",
       "      <td>NaN</td>\n",
       "      <td>NaN</td>\n",
       "    </tr>\n",
       "    <tr>\n",
       "      <th>3</th>\n",
       "      <td>366</td>\n",
       "      <td>Software Installation</td>\n",
       "      <td>Software</td>\n",
       "      <td>MS Office</td>\n",
       "      <td>A person</td>\n",
       "      <td>Critical</td>\n",
       "      <td>Software Installation</td>\n",
       "      <td>NaN</td>\n",
       "      <td>Resolved</td>\n",
       "      <td>Meghana Dharmaraj</td>\n",
       "      <td>NaN</td>\n",
       "      <td>Mahendar Battula</td>\n",
       "      <td>Meghana Dharmaraj</td>\n",
       "      <td>IT IS Support</td>\n",
       "      <td>Bangalore</td>\n",
       "      <td>installed required software</td>\n",
       "      <td>installed required software</td>\n",
       "      <td>NaN</td>\n",
       "      <td>NaN</td>\n",
       "      <td>Service</td>\n",
       "      <td>8/18/2023 5:49 PM</td>\n",
       "      <td>8/18/2023 6:54 PM</td>\n",
       "      <td>NaN</td>\n",
       "      <td>NaN</td>\n",
       "      <td>NaN</td>\n",
       "      <td>NaN</td>\n",
       "      <td>NaN</td>\n",
       "      <td>Raksha Roshni</td>\n",
       "      <td>18/08/2023, 12:17:41</td>\n",
       "      <td>22/05/2024, 13:33:22</td>\n",
       "      <td>NaN</td>\n",
       "      <td>NaN</td>\n",
       "      <td>NaN</td>\n",
       "      <td>NaN</td>\n",
       "    </tr>\n",
       "    <tr>\n",
       "      <th>4</th>\n",
       "      <td>367</td>\n",
       "      <td>Software Installation</td>\n",
       "      <td>Software</td>\n",
       "      <td>MS Office</td>\n",
       "      <td>A person</td>\n",
       "      <td>Critical</td>\n",
       "      <td>Software Installation</td>\n",
       "      <td>NaN</td>\n",
       "      <td>Resolved</td>\n",
       "      <td>Meghana Dharmaraj</td>\n",
       "      <td>NaN</td>\n",
       "      <td>Mahendar Battula</td>\n",
       "      <td>Meghana Dharmaraj</td>\n",
       "      <td>IT IS Support</td>\n",
       "      <td>Bangalore</td>\n",
       "      <td>installed required software</td>\n",
       "      <td>installed required software</td>\n",
       "      <td>NaN</td>\n",
       "      <td>NaN</td>\n",
       "      <td>Service</td>\n",
       "      <td>8/18/2023 5:59 PM</td>\n",
       "      <td>8/18/2023 6:54 PM</td>\n",
       "      <td>NaN</td>\n",
       "      <td>NaN</td>\n",
       "      <td>NaN</td>\n",
       "      <td>NaN</td>\n",
       "      <td>NaN</td>\n",
       "      <td>Raksha Roshni</td>\n",
       "      <td>18/08/2023, 12:19:37</td>\n",
       "      <td>22/05/2024, 13:33:22</td>\n",
       "      <td>NaN</td>\n",
       "      <td>NaN</td>\n",
       "      <td>NaN</td>\n",
       "      <td>NaN</td>\n",
       "    </tr>\n",
       "  </tbody>\n",
       "</table>\n",
       "</div>"
      ],
      "text/plain": [
       "    ID                  Issue            Service  Service Sub Category  \\\n",
       "0  361        Laptop for 7671  Computer Hardware  New Hardware Request   \n",
       "1  364  Software Installation           Software             MS Office   \n",
       "2  365  Software Installation           Software             MS Office   \n",
       "3  366  Software Installation           Software             MS Office   \n",
       "4  367  Software Installation           Software             MS Office   \n",
       "\n",
       "     Impact   Urgency                          Description  Ticket Sub Class  \\\n",
       "0  A person  Critical  make a laptop ready for new joinee.               NaN   \n",
       "1  A person  Critical                Software Installation               NaN   \n",
       "2  A person  Critical                Software Installation               NaN   \n",
       "3  A person  Critical                Software Installation               NaN   \n",
       "4  A person  Critical                Software Installation               NaN   \n",
       "\n",
       "     Status                  Created By  TTO Deadline            Assigned To  \\\n",
       "0  Assigned  Ravipati Ranga Dhama Reddy           NaN  Sivabharathi Dudekula   \n",
       "1  Resolved           Meghana Dharmaraj           NaN       Mahendar Battula   \n",
       "2  Resolved           Meghana Dharmaraj           NaN       Mahendar Battula   \n",
       "3  Resolved           Meghana Dharmaraj           NaN       Mahendar Battula   \n",
       "4  Resolved           Meghana Dharmaraj           NaN       Mahendar Battula   \n",
       "\n",
       "             Caller Name Responsible Team Location Value  \\\n",
       "0  Sivabharathi Dudekula    IT IS Support      Bangalore   \n",
       "1      Meghana Dharmaraj    IT IS Support      Bangalore   \n",
       "2      Meghana Dharmaraj    IT IS Support      Bangalore   \n",
       "3      Meghana Dharmaraj    IT IS Support      Bangalore   \n",
       "4      Meghana Dharmaraj    IT IS Support      Bangalore   \n",
       "\n",
       "                    Root Cause  \\\n",
       "0            laptop Make ready   \n",
       "1  installed required software   \n",
       "2  installed required software   \n",
       "3  installed required software   \n",
       "4  installed required software   \n",
       "\n",
       "                                        Action Taken Feeedback Ratings  \\\n",
       "0  Laptop was ready with all the os booted and th...       NaN     NaN   \n",
       "1                        installed required software       NaN     NaN   \n",
       "2                        installed required software       NaN     NaN   \n",
       "3                        installed required software       NaN     NaN   \n",
       "4                        installed required software       NaN     NaN   \n",
       "\n",
       "  Request Type       Assigned Date       Resolved Date Closed Date  Comments  \\\n",
       "0      Service  5/15/2024 10:33 PM  1/12/2024 12:33 PM         NaN       NaN   \n",
       "1      Service   8/18/2023 5:48 PM   8/18/2023 6:53 PM         NaN       NaN   \n",
       "2      Service   8/18/2023 5:48 PM   8/18/2023 6:53 PM         NaN       NaN   \n",
       "3      Service   8/18/2023 5:49 PM   8/18/2023 6:54 PM         NaN       NaN   \n",
       "4      Service   8/18/2023 5:59 PM   8/18/2023 6:54 PM         NaN       NaN   \n",
       "\n",
       "                               Re-Assign To  Month  Color Tag    Modified By  \\\n",
       "0  sivabharathi.dudekula@wisseninfotech.com    NaN        NaN   Mrdhul Kumar   \n",
       "1                                       NaN    NaN        NaN  Raksha Roshni   \n",
       "2                                       NaN    NaN        NaN  Raksha Roshni   \n",
       "3                                       NaN    NaN        NaN  Raksha Roshni   \n",
       "4                                       NaN    NaN        NaN  Raksha Roshni   \n",
       "\n",
       "           Created Date         Modified Date Re-Assigned Time  \\\n",
       "0  18/08/2023, 08:34:02  15/05/2024, 17:03:10              NaN   \n",
       "1  18/08/2023, 12:15:45  22/05/2024, 13:33:21              NaN   \n",
       "2  18/08/2023, 12:17:13  22/05/2024, 13:33:21              NaN   \n",
       "3  18/08/2023, 12:17:41  22/05/2024, 13:33:22              NaN   \n",
       "4  18/08/2023, 12:19:37  22/05/2024, 13:33:22              NaN   \n",
       "\n",
       "  Total Resolution Time  Re-Assigned Resolution Time Ticket Open Time  \n",
       "0                   NaN                          NaN              NaN  \n",
       "1                   NaN                          NaN              NaN  \n",
       "2                   NaN                          NaN              NaN  \n",
       "3                   NaN                          NaN              NaN  \n",
       "4                   NaN                          NaN              NaN  "
      ]
     },
     "execution_count": 5,
     "metadata": {},
     "output_type": "execute_result"
    }
   ],
   "source": [
    "Data_Raw_Wissen_2.head()"
   ]
  },
  {
   "cell_type": "code",
   "execution_count": 6,
   "metadata": {},
   "outputs": [],
   "source": [
    "Data_Wissen_1 = Data_Raw_Wissen_1[['Service Category', 'Service Sub Category', 'Description of Ticket']]\n",
    "Data_Wissen_2 = Data_Raw_Wissen_2[['Service', 'Description']]\n",
    "Data_Wissen_1 = Data_Wissen_1.dropna(subset=['Description of Ticket'])\n",
    "Data_Wissen_2 = Data_Wissen_2.dropna(subset=['Description'])\n",
    "\n",
    "Data_Wissen_1_additional = Data_Raw_Wissen_1[['Service Category', 'Description of Ticket', 'Service Sub Category', 'Title Of the Ticket']]\n",
    "Data_Wissen_2_additional = Data_Raw_Wissen_2[['Service', 'Description', 'Service Sub Category', 'Issue', 'Request Type']]\n",
    "Data_Wissen_1_additional = Data_Wissen_1_additional.dropna(subset=['Description of Ticket'])\n",
    "Data_Wissen_2_additional = Data_Wissen_2_additional.dropna(subset=['Description'])"
   ]
  },
  {
   "cell_type": "code",
   "execution_count": 8,
   "metadata": {},
   "outputs": [],
   "source": [
    "Data_Wissen_2_additional['Category'] = Data_Wissen_2_additional['Service'] + \"_\"+ Data_Wissen_2_additional['Service Sub Category']"
   ]
  },
  {
   "cell_type": "code",
   "execution_count": 9,
   "metadata": {},
   "outputs": [
    {
     "data": {
      "text/html": [
       "<div>\n",
       "<style scoped>\n",
       "    .dataframe tbody tr th:only-of-type {\n",
       "        vertical-align: middle;\n",
       "    }\n",
       "\n",
       "    .dataframe tbody tr th {\n",
       "        vertical-align: top;\n",
       "    }\n",
       "\n",
       "    .dataframe thead th {\n",
       "        text-align: right;\n",
       "    }\n",
       "</style>\n",
       "<table border=\"1\" class=\"dataframe\">\n",
       "  <thead>\n",
       "    <tr style=\"text-align: right;\">\n",
       "      <th></th>\n",
       "      <th>Service</th>\n",
       "      <th>Description</th>\n",
       "      <th>Service Sub Category</th>\n",
       "      <th>Issue</th>\n",
       "      <th>Request Type</th>\n",
       "      <th>Category</th>\n",
       "    </tr>\n",
       "  </thead>\n",
       "  <tbody>\n",
       "    <tr>\n",
       "      <th>0</th>\n",
       "      <td>Computer Hardware</td>\n",
       "      <td>make a laptop ready for new joinee.</td>\n",
       "      <td>New Hardware Request</td>\n",
       "      <td>Laptop for 7671</td>\n",
       "      <td>Service</td>\n",
       "      <td>Computer Hardware_New Hardware Request</td>\n",
       "    </tr>\n",
       "    <tr>\n",
       "      <th>1</th>\n",
       "      <td>Software</td>\n",
       "      <td>Software Installation</td>\n",
       "      <td>MS Office</td>\n",
       "      <td>Software Installation</td>\n",
       "      <td>Service</td>\n",
       "      <td>Software_MS Office</td>\n",
       "    </tr>\n",
       "    <tr>\n",
       "      <th>2</th>\n",
       "      <td>Software</td>\n",
       "      <td>Software Installation</td>\n",
       "      <td>MS Office</td>\n",
       "      <td>Software Installation</td>\n",
       "      <td>Service</td>\n",
       "      <td>Software_MS Office</td>\n",
       "    </tr>\n",
       "    <tr>\n",
       "      <th>3</th>\n",
       "      <td>Software</td>\n",
       "      <td>Software Installation</td>\n",
       "      <td>MS Office</td>\n",
       "      <td>Software Installation</td>\n",
       "      <td>Service</td>\n",
       "      <td>Software_MS Office</td>\n",
       "    </tr>\n",
       "    <tr>\n",
       "      <th>4</th>\n",
       "      <td>Software</td>\n",
       "      <td>Software Installation</td>\n",
       "      <td>MS Office</td>\n",
       "      <td>Software Installation</td>\n",
       "      <td>Service</td>\n",
       "      <td>Software_MS Office</td>\n",
       "    </tr>\n",
       "  </tbody>\n",
       "</table>\n",
       "</div>"
      ],
      "text/plain": [
       "             Service                          Description  \\\n",
       "0  Computer Hardware  make a laptop ready for new joinee.   \n",
       "1           Software                Software Installation   \n",
       "2           Software                Software Installation   \n",
       "3           Software                Software Installation   \n",
       "4           Software                Software Installation   \n",
       "\n",
       "   Service Sub Category                  Issue Request Type  \\\n",
       "0  New Hardware Request        Laptop for 7671      Service   \n",
       "1             MS Office  Software Installation      Service   \n",
       "2             MS Office  Software Installation      Service   \n",
       "3             MS Office  Software Installation      Service   \n",
       "4             MS Office  Software Installation      Service   \n",
       "\n",
       "                                 Category  \n",
       "0  Computer Hardware_New Hardware Request  \n",
       "1                      Software_MS Office  \n",
       "2                      Software_MS Office  \n",
       "3                      Software_MS Office  \n",
       "4                      Software_MS Office  "
      ]
     },
     "execution_count": 9,
     "metadata": {},
     "output_type": "execute_result"
    }
   ],
   "source": [
    "Data_Wissen_2_additional = Data_Wissen_2_additional.dropna(subset=['Category'])\n",
    "Data_Wissen_2_additional.head()"
   ]
  },
  {
   "cell_type": "code",
   "execution_count": 10,
   "metadata": {},
   "outputs": [
    {
     "name": "stdout",
     "output_type": "stream",
     "text": [
      "['User Account_Password Reset', 'Computer Hardware_Audio/Webcam issue', 'Network_Client Network', 'Internet/Network/Telecom_Client Network Access Error', 'Access Requests_Admin Rights', 'Software_MS Office', 'Software_New Software Request', 'Software_Client Provided S/W', 'Computer Hardware_Hardware Failure', 'User Account_Login Issue', 'User Account_Account Locked', 'Software_Other', 'Internet/Network/Telecom_Wi-Fi Access ', 'Computer Hardware_New Hardware Request', 'Access Requests_Application Access', 'Access Requests_USB Access', 'Access Requests_VPN', 'Internet/Network/Telecom_Network Error', 'Software_Outlook Configuration', 'Internet/Network/Telecom_Website Access', 'Internet/Network/Telecom_Others ', 'Software_Operating System Issue', 'Computer Hardware_Others', 'Software_Software Error', 'Conference/ Training Room Booking_4th Floor Conference/Training Room Booking(BLR)', 'Access Requests_Website Access', 'Access Requests_Others', 'Network_FireWall and Switches', 'Computer Hardware_Booting Problem', 'Conference/ Training Room Booking_6th Floor Conference/Training Room Booking', 'Software_Microsoft Teams Issue']\n"
     ]
    }
   ],
   "source": [
    "Data_Wissen_2_additional_Classes = list(set(Data_Wissen_2_additional['Category'].tolist()))\n",
    "print(Data_Wissen_2_additional_Classes)"
   ]
  },
  {
   "cell_type": "code",
   "execution_count": 7,
   "metadata": {},
   "outputs": [],
   "source": [
    "pd.set_option('display.max_columns', None)\n",
    "pd.set_option('display.max_rows', None)"
   ]
  },
  {
   "cell_type": "code",
   "execution_count": 11,
   "metadata": {},
   "outputs": [
    {
     "name": "stdout",
     "output_type": "stream",
     "text": [
      "Category\n",
      "Computer Hardware_New Hardware Request                                               1395\n",
      "Software_New Software Request                                                        1214\n",
      "Computer Hardware_Others                                                              840\n",
      "Software_Other                                                                        551\n",
      "Software_Software Error                                                               296\n",
      "Software_MS Office                                                                    204\n",
      "Access Requests_Others                                                                174\n",
      "Computer Hardware_Hardware Failure                                                    100\n",
      "Software_Outlook Configuration                                                         94\n",
      "Software_Microsoft Teams Issue                                                         79\n",
      "User Account_Login Issue                                                               67\n",
      "User Account_Password Reset                                                            66\n",
      "Internet/Network/Telecom_Network Error                                                 45\n",
      "Software_Operating System Issue                                                        37\n",
      "User Account_Account Locked                                                            36\n",
      "Internet/Network/Telecom_Wi-Fi Access                                                  36\n",
      "Network_FireWall and Switches                                                          26\n",
      "Access Requests_Application Access                                                     24\n",
      "Computer Hardware_Booting Problem                                                      24\n",
      "Internet/Network/Telecom_Others                                                        18\n",
      "Computer Hardware_Audio/Webcam issue                                                   13\n",
      "Network_Client Network                                                                  7\n",
      "Software_Client Provided S/W                                                            7\n",
      "Access Requests_Website Access                                                          6\n",
      "Internet/Network/Telecom_Client Network Access Error                                    4\n",
      "Access Requests_VPN                                                                     4\n",
      "Internet/Network/Telecom_Website Access                                                 2\n",
      "Conference/ Training Room Booking_6th Floor Conference/Training Room Booking            1\n",
      "Access Requests_Admin Rights                                                            1\n",
      "Access Requests_USB Access                                                              1\n",
      "Conference/ Training Room Booking_4th Floor Conference/Training Room Booking(BLR)       1\n",
      "Name: count, dtype: int64\n",
      "\n",
      "\n"
     ]
    }
   ],
   "source": [
    "print(Data_Wissen_2_additional['Category'].value_counts())\n",
    "print('\\n')\n",
    "# print(Data_Wissen_2['Service'].value_counts())"
   ]
  },
  {
   "cell_type": "code",
   "execution_count": 12,
   "metadata": {},
   "outputs": [],
   "source": [
    "# Select only instance with count more than 100(some threshold)\n",
    "Data_Wissen_2_additional_VC = Data_Wissen_2_additional['Category'].value_counts()#.to_frame()\n",
    "Data_Wissen_2_additional_tmp = Data_Wissen_2_additional_VC[Data_Wissen_2_additional_VC > 40]\n",
    "\n",
    "# Data_Wissen_Class_DF['Service Sub Category'].value_counts()\n",
    "Class_Names_Above100 = Data_Wissen_2_additional_tmp.index.tolist()\n",
    "Data_Wissen_2_Above100 = Data_Wissen_2_additional[Data_Wissen_2_additional['Category'].isin(Class_Names_Above100)]"
   ]
  },
  {
   "cell_type": "code",
   "execution_count": 13,
   "metadata": {},
   "outputs": [
    {
     "name": "stderr",
     "output_type": "stream",
     "text": [
      "C:\\Users\\aiwinuser\\AppData\\Local\\Temp\\2\\ipykernel_2204\\451375353.py:2: SettingWithCopyWarning: \n",
      "A value is trying to be set on a copy of a slice from a DataFrame.\n",
      "Try using .loc[row_indexer,col_indexer] = value instead\n",
      "\n",
      "See the caveats in the documentation: https://pandas.pydata.org/pandas-docs/stable/user_guide/indexing.html#returning-a-view-versus-a-copy\n",
      "  Data_Wissen_2_Above100['label'] = label_encoder.fit_transform(Data_Wissen_2_Above100['Category'].tolist())\n"
     ]
    },
    {
     "data": {
      "text/html": [
       "<div>\n",
       "<style scoped>\n",
       "    .dataframe tbody tr th:only-of-type {\n",
       "        vertical-align: middle;\n",
       "    }\n",
       "\n",
       "    .dataframe tbody tr th {\n",
       "        vertical-align: top;\n",
       "    }\n",
       "\n",
       "    .dataframe thead th {\n",
       "        text-align: right;\n",
       "    }\n",
       "</style>\n",
       "<table border=\"1\" class=\"dataframe\">\n",
       "  <thead>\n",
       "    <tr style=\"text-align: right;\">\n",
       "      <th></th>\n",
       "      <th>Service</th>\n",
       "      <th>Description</th>\n",
       "      <th>Service Sub Category</th>\n",
       "      <th>Issue</th>\n",
       "      <th>Request Type</th>\n",
       "      <th>Category</th>\n",
       "      <th>label</th>\n",
       "    </tr>\n",
       "  </thead>\n",
       "  <tbody>\n",
       "    <tr>\n",
       "      <th>0</th>\n",
       "      <td>Computer Hardware</td>\n",
       "      <td>make a laptop ready for new joinee.</td>\n",
       "      <td>New Hardware Request</td>\n",
       "      <td>Laptop for 7671</td>\n",
       "      <td>Service</td>\n",
       "      <td>Computer Hardware_New Hardware Request</td>\n",
       "      <td>2</td>\n",
       "    </tr>\n",
       "    <tr>\n",
       "      <th>1</th>\n",
       "      <td>Software</td>\n",
       "      <td>Software Installation</td>\n",
       "      <td>MS Office</td>\n",
       "      <td>Software Installation</td>\n",
       "      <td>Service</td>\n",
       "      <td>Software_MS Office</td>\n",
       "      <td>5</td>\n",
       "    </tr>\n",
       "    <tr>\n",
       "      <th>2</th>\n",
       "      <td>Software</td>\n",
       "      <td>Software Installation</td>\n",
       "      <td>MS Office</td>\n",
       "      <td>Software Installation</td>\n",
       "      <td>Service</td>\n",
       "      <td>Software_MS Office</td>\n",
       "      <td>5</td>\n",
       "    </tr>\n",
       "    <tr>\n",
       "      <th>3</th>\n",
       "      <td>Software</td>\n",
       "      <td>Software Installation</td>\n",
       "      <td>MS Office</td>\n",
       "      <td>Software Installation</td>\n",
       "      <td>Service</td>\n",
       "      <td>Software_MS Office</td>\n",
       "      <td>5</td>\n",
       "    </tr>\n",
       "    <tr>\n",
       "      <th>4</th>\n",
       "      <td>Software</td>\n",
       "      <td>Software Installation</td>\n",
       "      <td>MS Office</td>\n",
       "      <td>Software Installation</td>\n",
       "      <td>Service</td>\n",
       "      <td>Software_MS Office</td>\n",
       "      <td>5</td>\n",
       "    </tr>\n",
       "  </tbody>\n",
       "</table>\n",
       "</div>"
      ],
      "text/plain": [
       "             Service                          Description  \\\n",
       "0  Computer Hardware  make a laptop ready for new joinee.   \n",
       "1           Software                Software Installation   \n",
       "2           Software                Software Installation   \n",
       "3           Software                Software Installation   \n",
       "4           Software                Software Installation   \n",
       "\n",
       "   Service Sub Category                  Issue Request Type  \\\n",
       "0  New Hardware Request        Laptop for 7671      Service   \n",
       "1             MS Office  Software Installation      Service   \n",
       "2             MS Office  Software Installation      Service   \n",
       "3             MS Office  Software Installation      Service   \n",
       "4             MS Office  Software Installation      Service   \n",
       "\n",
       "                                 Category  label  \n",
       "0  Computer Hardware_New Hardware Request      2  \n",
       "1                      Software_MS Office      5  \n",
       "2                      Software_MS Office      5  \n",
       "3                      Software_MS Office      5  \n",
       "4                      Software_MS Office      5  "
      ]
     },
     "execution_count": 13,
     "metadata": {},
     "output_type": "execute_result"
    }
   ],
   "source": [
    "label_encoder = preprocessing.LabelEncoder()\n",
    "Data_Wissen_2_Above100['label'] = label_encoder.fit_transform(Data_Wissen_2_Above100['Category'].tolist())\n",
    "Data_Wissen_2_Above100.head()"
   ]
  },
  {
   "cell_type": "code",
   "execution_count": 14,
   "metadata": {},
   "outputs": [
    {
     "data": {
      "text/plain": [
       "{'Access Requests_Others': 0,\n",
       " 'Computer Hardware_Hardware Failure': 1,\n",
       " 'Computer Hardware_New Hardware Request': 2,\n",
       " 'Computer Hardware_Others': 3,\n",
       " 'Internet/Network/Telecom_Network Error': 4,\n",
       " 'Software_MS Office': 5,\n",
       " 'Software_Microsoft Teams Issue': 6,\n",
       " 'Software_New Software Request': 7,\n",
       " 'Software_Other': 8,\n",
       " 'Software_Outlook Configuration': 9,\n",
       " 'Software_Software Error': 10,\n",
       " 'User Account_Login Issue': 11,\n",
       " 'User Account_Password Reset': 12}"
      ]
     },
     "execution_count": 14,
     "metadata": {},
     "output_type": "execute_result"
    }
   ],
   "source": [
    "dict(zip(label_encoder.classes_, label_encoder.transform(label_encoder.classes_)))"
   ]
  },
  {
   "cell_type": "code",
   "execution_count": null,
   "metadata": {},
   "outputs": [],
   "source": []
  },
  {
   "cell_type": "code",
   "execution_count": 15,
   "metadata": {},
   "outputs": [],
   "source": [
    "tokenizer = AutoTokenizer.from_pretrained(\"distilbert-base-uncased\")"
   ]
  },
  {
   "cell_type": "code",
   "execution_count": 16,
   "metadata": {},
   "outputs": [],
   "source": [
    "# train_df, test_df = train_test_split(Data_Wissen_Class_100_DF, test_size=0.2, shuffle=True, stratify=Data_Wissen_Class_100_DF['Description of Ticket'])\n",
    "train_df, test_df = train_test_split(Data_Wissen_2_Above100, test_size=0.2, shuffle=True)\n",
    "\n",
    "# Convert datasets to tokenized format\n",
    "train_dataset = Dataset.from_pandas(train_df)\n",
    "test_dataset = Dataset.from_pandas(test_df)"
   ]
  },
  {
   "cell_type": "code",
   "execution_count": 18,
   "metadata": {},
   "outputs": [],
   "source": [
    "X_list = Data_Wissen_2_Above100['Description'].to_list()\n",
    "X_pt   = tokenizer(X_list, padding='max_length', max_length = 512, truncation=True, return_tensors='pt')[\"input_ids\"]\n",
    "\n",
    "y_list = np.unique(Data_Wissen_2_Above100['label'], return_inverse=True)[1]\n",
    "y_pt   = torch.Tensor(y_list).long()\n",
    "\n",
    "X_pt_train, X_pt_test, y_pt_train, y_pt_test = train_test_split(X_pt, y_pt, test_size=0.2, random_state=42, stratify=y_pt)"
   ]
  },
  {
   "cell_type": "code",
   "execution_count": 19,
   "metadata": {},
   "outputs": [],
   "source": [
    "from torch.utils.data import Dataset, DataLoader"
   ]
  },
  {
   "cell_type": "code",
   "execution_count": 20,
   "metadata": {},
   "outputs": [],
   "source": [
    "class ClassificationDataset(Dataset):\n",
    "    \"\"\"Custom-built Wissen-Ticket dataset\"\"\"\n",
    "\n",
    "    def __init__(self, X, y):\n",
    "        \"\"\"\n",
    "        Args:\n",
    "            X, y as Torch tensors\n",
    "        \"\"\"\n",
    "        self.X_train = X\n",
    "        self.y_train = y\n",
    "\n",
    "    def __len__(self):\n",
    "        return len(self.y_train)\n",
    "\n",
    "    def __getitem__(self, idx):\n",
    "        return self.X_train[idx], self.y_train[idx]\n",
    "\n",
    "# Get train and test data in form of Dataset class\n",
    "train_data_pt = ClassificationDataset(X=X_pt_train, y=y_pt_train)\n",
    "test_data_pt = ClassificationDataset(X=X_pt_test, y=y_pt_test)"
   ]
  },
  {
   "cell_type": "code",
   "execution_count": 21,
   "metadata": {},
   "outputs": [],
   "source": [
    "# Get train and test data in form of Dataloader class\n",
    "train_loader_pt = DataLoader(train_data_pt, batch_size=32)\n",
    "test_loader_pt = DataLoader(test_data_pt, batch_size=32)"
   ]
  },
  {
   "cell_type": "code",
   "execution_count": 30,
   "metadata": {},
   "outputs": [],
   "source": [
    "config = transformers.DistilBertConfig(dropout=0.2, attention_dropout=0.2)\n",
    "dbert_pt = transformers.DistilBertModel.from_pretrained('distilbert-base-uncased', config=config)"
   ]
  },
  {
   "cell_type": "code",
   "execution_count": 31,
   "metadata": {},
   "outputs": [
    {
     "name": "stdout",
     "output_type": "stream",
     "text": [
      "Using cuda device\n"
     ]
    }
   ],
   "source": [
    "# Get cpu or gpu device for training.\n",
    "device = \"cuda\" if torch.cuda.is_available() else \"cpu\"\n",
    "print(f\"Using {device} device\")"
   ]
  },
  {
   "cell_type": "code",
   "execution_count": 32,
   "metadata": {},
   "outputs": [],
   "source": [
    "class DistilBertClassification(nn.Module):\n",
    "    def __init__(self):\n",
    "        super(DistilBertClassification, self).__init__()\n",
    "        self.dbert = dbert_pt\n",
    "        self.dropout = nn.Dropout(p=0.2)\n",
    "        self.linear1 = nn.Linear(768,64)\n",
    "        self.ReLu = nn.ReLU()\n",
    "        self.linear2 = nn.Linear(64,13)\n",
    "\n",
    "    def forward(self, x):\n",
    "        x = self.dbert(input_ids=x)\n",
    "        x = x[\"last_hidden_state\"][:,0,:]\n",
    "        x = self.dropout(x)\n",
    "        x = self.linear1(x)\n",
    "        x = self.ReLu(x)\n",
    "        logits = self.linear2(x)\n",
    "        # No need for a softmax, because it is already included in the CrossEntropyLoss\n",
    "        return logits\n",
    "\n",
    "model_pt = DistilBertClassification().to(device)"
   ]
  },
  {
   "cell_type": "code",
   "execution_count": 33,
   "metadata": {},
   "outputs": [],
   "source": [
    "for param in model_pt.dbert.parameters():\n",
    "    param.requires_grad = False"
   ]
  },
  {
   "cell_type": "code",
   "execution_count": 34,
   "metadata": {},
   "outputs": [
    {
     "name": "stdout",
     "output_type": "stream",
     "text": [
      "Number of parameters:  66412941\n",
      "Number of trainable parameters:  50061\n"
     ]
    }
   ],
   "source": [
    "total_params = sum(p.numel() for p in model_pt.parameters())\n",
    "total_params_trainable = sum(p.numel() for p in model_pt.parameters() if p.requires_grad)\n",
    "print(\"Number of parameters: \", total_params)\n",
    "print(\"Number of trainable parameters: \", total_params_trainable)"
   ]
  },
  {
   "cell_type": "code",
   "execution_count": 35,
   "metadata": {},
   "outputs": [],
   "source": [
    "for param in list(model_pt.dbert.parameters())[:-99]:\n",
    "    # print('I will be frozen: {}'.format(name))\n",
    "    param.requires_grad = True"
   ]
  },
  {
   "cell_type": "code",
   "execution_count": 36,
   "metadata": {},
   "outputs": [
    {
     "name": "stdout",
     "output_type": "stream",
     "text": [
      "Number of parameters:  66412941\n",
      "Number of trainable parameters:  23490957\n"
     ]
    }
   ],
   "source": [
    "total_params = sum(p.numel() for p in model_pt.parameters())\n",
    "total_params_trainable = sum(p.numel() for p in model_pt.parameters() if p.requires_grad)\n",
    "print(\"Number of parameters: \", total_params)\n",
    "print(\"Number of trainable parameters: \", total_params_trainable)"
   ]
  },
  {
   "cell_type": "code",
   "execution_count": 37,
   "metadata": {},
   "outputs": [
    {
     "name": "stderr",
     "output_type": "stream",
     "text": [
      "100%|██████████| 129/129 [02:13<00:00,  1.04s/it]\n"
     ]
    },
    {
     "name": "stdout",
     "output_type": "stream",
     "text": [
      "Epoch 1 \t\t Training Loss:      1.810 \t\t Validation Loss:      1.480\n",
      "\t\t Training Accuracy:    39.805% \t\t Validation Accuracy:    50.244%\n"
     ]
    },
    {
     "name": "stderr",
     "output_type": "stream",
     "text": [
      "100%|██████████| 129/129 [02:17<00:00,  1.07s/it]\n"
     ]
    },
    {
     "name": "stdout",
     "output_type": "stream",
     "text": [
      "Epoch 2 \t\t Training Loss:      1.380 \t\t Validation Loss:      1.297\n",
      "\t\t Training Accuracy:    55.488% \t\t Validation Accuracy:    60.098%\n"
     ]
    },
    {
     "name": "stderr",
     "output_type": "stream",
     "text": [
      "100%|██████████| 129/129 [02:17<00:00,  1.07s/it]\n"
     ]
    },
    {
     "name": "stdout",
     "output_type": "stream",
     "text": [
      "Epoch 3 \t\t Training Loss:      1.145 \t\t Validation Loss:      1.174\n",
      "\t\t Training Accuracy:    63.415% \t\t Validation Accuracy:    62.439%\n"
     ]
    },
    {
     "name": "stderr",
     "output_type": "stream",
     "text": [
      "100%|██████████| 129/129 [02:17<00:00,  1.07s/it]\n"
     ]
    },
    {
     "name": "stdout",
     "output_type": "stream",
     "text": [
      "Epoch 4 \t\t Training Loss:      0.995 \t\t Validation Loss:      1.128\n",
      "\t\t Training Accuracy:    67.878% \t\t Validation Accuracy:    63.415%\n"
     ]
    },
    {
     "name": "stderr",
     "output_type": "stream",
     "text": [
      "100%|██████████| 129/129 [02:17<00:00,  1.07s/it]\n"
     ]
    },
    {
     "name": "stdout",
     "output_type": "stream",
     "text": [
      "Epoch 5 \t\t Training Loss:      0.870 \t\t Validation Loss:      1.084\n",
      "\t\t Training Accuracy:    72.171% \t\t Validation Accuracy:    66.244%\n"
     ]
    },
    {
     "name": "stderr",
     "output_type": "stream",
     "text": [
      "100%|██████████| 129/129 [02:17<00:00,  1.07s/it]\n"
     ]
    },
    {
     "name": "stdout",
     "output_type": "stream",
     "text": [
      "Epoch 6 \t\t Training Loss:      0.754 \t\t Validation Loss:      1.109\n",
      "\t\t Training Accuracy:    75.317% \t\t Validation Accuracy:    65.951%\n"
     ]
    },
    {
     "name": "stderr",
     "output_type": "stream",
     "text": [
      "100%|██████████| 129/129 [02:17<00:00,  1.07s/it]\n"
     ]
    },
    {
     "name": "stdout",
     "output_type": "stream",
     "text": [
      "Epoch 7 \t\t Training Loss:      0.678 \t\t Validation Loss:      1.151\n",
      "\t\t Training Accuracy:    78.341% \t\t Validation Accuracy:    65.561%\n"
     ]
    },
    {
     "name": "stderr",
     "output_type": "stream",
     "text": [
      "100%|██████████| 129/129 [02:17<00:00,  1.07s/it]\n"
     ]
    },
    {
     "name": "stdout",
     "output_type": "stream",
     "text": [
      "Epoch 8 \t\t Training Loss:      0.586 \t\t Validation Loss:      1.227\n",
      "\t\t Training Accuracy:    81.439% \t\t Validation Accuracy:    64.780%\n"
     ]
    },
    {
     "name": "stderr",
     "output_type": "stream",
     "text": [
      "100%|██████████| 129/129 [02:17<00:00,  1.07s/it]\n"
     ]
    },
    {
     "name": "stdout",
     "output_type": "stream",
     "text": [
      "Epoch 9 \t\t Training Loss:      0.526 \t\t Validation Loss:      1.228\n",
      "\t\t Training Accuracy:    83.293% \t\t Validation Accuracy:    64.976%\n"
     ]
    },
    {
     "name": "stderr",
     "output_type": "stream",
     "text": [
      "100%|██████████| 129/129 [02:17<00:00,  1.07s/it]\n"
     ]
    },
    {
     "name": "stdout",
     "output_type": "stream",
     "text": [
      "Epoch 10 \t\t Training Loss:      0.478 \t\t Validation Loss:      1.256\n",
      "\t\t Training Accuracy:    84.341% \t\t Validation Accuracy:    65.268%\n"
     ]
    }
   ],
   "source": [
    "epochs = 10\n",
    "criterion = torch.nn.CrossEntropyLoss()\n",
    "optimizer = torch.optim.Adam(model_pt.parameters())\n",
    "from tqdm import tqdm\n",
    "# Define the dictionary \"history\" that will collect key performance indicators during training\n",
    "history = {}\n",
    "history[\"epoch\"]=[]\n",
    "history[\"train_loss\"]=[]\n",
    "history[\"valid_loss\"]=[]\n",
    "history[\"train_accuracy\"]=[]\n",
    "history[\"valid_accuracy\"]=[]\n",
    "\n",
    "# Measure time for training\n",
    "start_time = datetime.now()\n",
    "\n",
    "# Loop on epochs\n",
    "for e in range(epochs):\n",
    "\n",
    "    # Set mode in train mode\n",
    "    model_pt.train()\n",
    "\n",
    "    train_loss = 0.0\n",
    "    train_accuracy = []\n",
    "\n",
    "    # Loop on batches\n",
    "    for X, y in tqdm(train_loader_pt):\n",
    "\n",
    "        X, y = X.to(device), y.to(device)\n",
    "        # Get prediction & loss\n",
    "        prediction = model_pt(X)\n",
    "        loss = criterion(prediction, y)\n",
    "\n",
    "        # Adjust the parameters of the model\n",
    "        optimizer.zero_grad()\n",
    "        loss.backward()\n",
    "        optimizer.step()\n",
    "\n",
    "        train_loss += loss.item()\n",
    "\n",
    "        prediction_index = prediction.argmax(axis=1)\n",
    "        accuracy = (prediction_index==y)\n",
    "        train_accuracy += accuracy\n",
    "\n",
    "    train_accuracy = (sum(train_accuracy) / len(train_accuracy)).item()\n",
    "\n",
    "    # Calculate the loss on the test data after each epoch\n",
    "    # Set mode to evaluation (by opposition to training)\n",
    "    model_pt.eval()\n",
    "    valid_loss = 0.0\n",
    "    valid_accuracy = []\n",
    "    for X, y in test_loader_pt:\n",
    "\n",
    "        X, y = X.to(device), y.to(device)\n",
    "        prediction = model_pt(X)\n",
    "        loss = criterion(prediction, y)\n",
    "\n",
    "        valid_loss += loss.item()\n",
    "\n",
    "        prediction_index = prediction.argmax(axis=1)\n",
    "        accuracy = (prediction_index==y)\n",
    "        valid_accuracy += accuracy\n",
    "    valid_accuracy = (sum(valid_accuracy) / len(valid_accuracy)).item()\n",
    "\n",
    "    # Populate history\n",
    "    history[\"epoch\"].append(e+1)\n",
    "    history[\"train_loss\"].append(train_loss / len(train_loader_pt))\n",
    "    history[\"valid_loss\"].append(valid_loss / len(test_loader_pt))\n",
    "    history[\"train_accuracy\"].append(train_accuracy)\n",
    "    history[\"valid_accuracy\"].append(valid_accuracy)\n",
    "\n",
    "    print(f'Epoch {e+1} \\t\\t Training Loss: {train_loss / len(train_loader_pt) :10.3f} \\t\\t Validation Loss: {valid_loss / len(test_loader_pt) :10.3f}')\n",
    "    print(f'\\t\\t Training Accuracy: {train_accuracy :10.3%} \\t\\t Validation Accuracy: {valid_accuracy :10.3%}')\n",
    "\n",
    "# Measure time for training\n",
    "end_time = datetime.now()\n",
    "training_time_pt = (end_time - start_time).total_seconds()"
   ]
  },
  {
   "cell_type": "code",
   "execution_count": 38,
   "metadata": {},
   "outputs": [
    {
     "data": {
      "text/plain": [
       "<matplotlib.legend.Legend at 0x24d91a22130>"
      ]
     },
     "execution_count": 38,
     "metadata": {},
     "output_type": "execute_result"
    },
    {
     "data": {
      "image/png": "[encoded data removed]",
      "text/plain": [
       "<Figure size 1500x500 with 2 Axes>"
      ]
     },
     "metadata": {},
     "output_type": "display_data"
    }
   ],
   "source": [
    "from matplotlib import pyplot as plt\n",
    "\n",
    "fig, ax = plt.subplots(nrows=1, ncols=2, figsize=(15, 5))\n",
    "ax[0].set(title='Loss')\n",
    "ax[0].plot(history['train_loss'], label='Training')\n",
    "ax[0].plot(history['valid_loss'], label='Validation')\n",
    "ax[0].legend(loc=\"upper right\")\n",
    "\n",
    "ax[1].set(title='Accuracy')\n",
    "ax[1].plot(history['train_accuracy'], label='Training')\n",
    "ax[1].plot(history['valid_accuracy'], label='Validation')\n",
    "ax[1].legend(loc=\"lower right\")"
   ]
  },
  {
   "cell_type": "code",
   "execution_count": 29,
   "metadata": {},
   "outputs": [
    {
     "name": "stdout",
     "output_type": "stream",
     "text": [
      "Accuracy Training data: 34.7%\n",
      "Accuracy Test data: 35.5%\n",
      "Training time: 833.3s (or 13.9 minutes)\n"
     ]
    }
   ],
   "source": [
    "accuracy_pt = history['valid_accuracy'][-1]\n",
    "print('Accuracy Training data: {:.1%}'.format(history['train_accuracy'][-1]))\n",
    "print('Accuracy Test data: {:.1%}'.format(history['valid_accuracy'][-1]))\n",
    "print('Training time: {:.1f}s (or {:.1f} minutes)'.format(training_time_pt, training_time_pt/60))"
   ]
  },
  {
   "cell_type": "code",
   "execution_count": 29,
   "metadata": {},
   "outputs": [
    {
     "data": {
      "text/plain": [
       "DistilBertClassification(\n",
       "  (dbert): DistilBertModel(\n",
       "    (embeddings): Embeddings(\n",
       "      (word_embeddings): Embedding(30522, 768, padding_idx=0)\n",
       "      (position_embeddings): Embedding(512, 768)\n",
       "      (LayerNorm): LayerNorm((768,), eps=1e-12, elementwise_affine=True)\n",
       "      (dropout): Dropout(p=0.2, inplace=False)\n",
       "    )\n",
       "    (transformer): Transformer(\n",
       "      (layer): ModuleList(\n",
       "        (0-5): 6 x TransformerBlock(\n",
       "          (attention): MultiHeadSelfAttention(\n",
       "            (dropout): Dropout(p=0.2, inplace=False)\n",
       "            (q_lin): Linear(in_features=768, out_features=768, bias=True)\n",
       "            (k_lin): Linear(in_features=768, out_features=768, bias=True)\n",
       "            (v_lin): Linear(in_features=768, out_features=768, bias=True)\n",
       "            (out_lin): Linear(in_features=768, out_features=768, bias=True)\n",
       "          )\n",
       "          (sa_layer_norm): LayerNorm((768,), eps=1e-12, elementwise_affine=True)\n",
       "          (ffn): FFN(\n",
       "            (dropout): Dropout(p=0.2, inplace=False)\n",
       "            (lin1): Linear(in_features=768, out_features=3072, bias=True)\n",
       "            (lin2): Linear(in_features=3072, out_features=768, bias=True)\n",
       "            (activation): GELUActivation()\n",
       "          )\n",
       "          (output_layer_norm): LayerNorm((768,), eps=1e-12, elementwise_affine=True)\n",
       "        )\n",
       "      )\n",
       "    )\n",
       "  )\n",
       "  (dropout): Dropout(p=0.2, inplace=False)\n",
       "  (linear1): Linear(in_features=768, out_features=64, bias=True)\n",
       "  (ReLu): ReLU()\n",
       "  (linear2): Linear(in_features=64, out_features=16, bias=True)\n",
       ")"
      ]
     },
     "execution_count": 29,
     "metadata": {},
     "output_type": "execute_result"
    }
   ],
   "source": [
    "# Save only the parameters of the model but not the model itself, and get it back\n",
    "torch.save(model_pt.state_dict(), './PyModel_V1/PyModel_V1.sd')\n",
    "model_reloaded = DistilBertClassification()\n",
    "model_reloaded.load_state_dict(torch.load('./PyModel_V1/PyModel_V1.sd'))\n",
    "model_reloaded.eval()"
   ]
  },
  {
   "cell_type": "code",
   "execution_count": 30,
   "metadata": {},
   "outputs": [
    {
     "data": {
      "text/plain": [
       "DistilBertClassification(\n",
       "  (dbert): DistilBertModel(\n",
       "    (embeddings): Embeddings(\n",
       "      (word_embeddings): Embedding(30522, 768, padding_idx=0)\n",
       "      (position_embeddings): Embedding(512, 768)\n",
       "      (LayerNorm): LayerNorm((768,), eps=1e-12, elementwise_affine=True)\n",
       "      (dropout): Dropout(p=0.2, inplace=False)\n",
       "    )\n",
       "    (transformer): Transformer(\n",
       "      (layer): ModuleList(\n",
       "        (0-5): 6 x TransformerBlock(\n",
       "          (attention): MultiHeadSelfAttention(\n",
       "            (dropout): Dropout(p=0.2, inplace=False)\n",
       "            (q_lin): Linear(in_features=768, out_features=768, bias=True)\n",
       "            (k_lin): Linear(in_features=768, out_features=768, bias=True)\n",
       "            (v_lin): Linear(in_features=768, out_features=768, bias=True)\n",
       "            (out_lin): Linear(in_features=768, out_features=768, bias=True)\n",
       "          )\n",
       "          (sa_layer_norm): LayerNorm((768,), eps=1e-12, elementwise_affine=True)\n",
       "          (ffn): FFN(\n",
       "            (dropout): Dropout(p=0.2, inplace=False)\n",
       "            (lin1): Linear(in_features=768, out_features=3072, bias=True)\n",
       "            (lin2): Linear(in_features=3072, out_features=768, bias=True)\n",
       "            (activation): GELUActivation()\n",
       "          )\n",
       "          (output_layer_norm): LayerNorm((768,), eps=1e-12, elementwise_affine=True)\n",
       "        )\n",
       "      )\n",
       "    )\n",
       "  )\n",
       "  (dropout): Dropout(p=0.2, inplace=False)\n",
       "  (linear1): Linear(in_features=768, out_features=64, bias=True)\n",
       "  (ReLu): ReLU()\n",
       "  (linear2): Linear(in_features=64, out_features=16, bias=True)\n",
       ")"
      ]
     },
     "execution_count": 30,
     "metadata": {},
     "output_type": "execute_result"
    }
   ],
   "source": [
    "# Save the entire model, and get it back\n",
    "torch.save(model_pt, './PyModel_V1/PyModelComplete_V1.pt')\n",
    "model_reloaded2 = torch.load('./PyModel_V1/PyModelComplete_V1.pt')\n",
    "model_reloaded2.eval()"
   ]
  },
  {
   "cell_type": "code",
   "execution_count": null,
   "metadata": {},
   "outputs": [],
   "source": []
  },
  {
   "cell_type": "code",
   "execution_count": null,
   "metadata": {},
   "outputs": [],
   "source": []
  },
  {
   "cell_type": "code",
   "execution_count": null,
   "metadata": {},
   "outputs": [],
   "source": []
  },
  {
   "cell_type": "code",
   "execution_count": null,
   "metadata": {},
   "outputs": [],
   "source": []
  }
 ],
 "metadata": {
  "kernelspec": {
   "display_name": "PyWissenAssistant",
   "language": "python",
   "name": "python3"
  },
  "language_info": {
   "codemirror_mode": {
    "name": "ipython",
    "version": 3
   },
   "file_extension": ".py",
   "mimetype": "text/x-python",
   "name": "python",
   "nbconvert_exporter": "python",
   "pygments_lexer": "ipython3",
   "version": "3.9.19"
  }
 },
 "nbformat": 4,
 "nbformat_minor": 2
}
